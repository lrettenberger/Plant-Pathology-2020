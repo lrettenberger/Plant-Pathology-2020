{
 "cells": [
  {
   "cell_type": "code",
   "execution_count": null,
   "metadata": {},
   "outputs": [],
   "source": [
    "from tensorflow.keras.optimizers import Adam , RMSprop \n",
    "from tensorflow.keras.regularizers import l2\n",
    "from tensorflow.keras.layers import BatchNormalization\n",
    "from tensorflow.keras.callbacks import ReduceLROnPlateau , EarlyStopping , ModelCheckpoint , LearningRateScheduler\n",
    "from tensorflow.keras.models import Model\n",
    "import keras\n",
    "import cv2\n",
    "import numpy as np\n",
    "from Model import get_model"
   ]
  },
  {
   "cell_type": "code",
   "execution_count": null,
   "metadata": {},
   "outputs": [],
   "source": [
    "NEW_DATA_DIR = './data'\n",
    "TRAIN_DIR = NEW_DATA_DIR + '/Train'\n",
    "TEST_DIR = NEW_DATA_DIR + '/Test'\n",
    "VALID_DIR = NEW_DATA_DIR + '/Valid'\n",
    "test_size = 0.10\n",
    "\n",
    "\n",
    "def blur(img):\n",
    "    rand_int = np.random.randint(11)\n",
    "    if rand_int <= 1:\n",
    "        blurred = (cv2.blur(img,(5,5)))\n",
    "        return blurred\n",
    "    if rand_int <= 3:\n",
    "        kernel = np.ones((6, 6), np.float32)/20\n",
    "        filtered = cv2.filter2D(img, -1, kernel)\n",
    "        return filtered\n",
    "    return img\n",
    "\n",
    "#image_size = (136, 204)\n",
    "image_size = (299, 299)\n",
    "batch_size = 10\n",
    "\n",
    "# Rescale all images by 1./255 and apply image augmentation\n",
    "train_datagen = keras.preprocessing.image.ImageDataGenerator(horizontal_flip=True,\n",
    "    vertical_flip=True,\n",
    "    rotation_range=10,\n",
    "    width_shift_range=0.1,\n",
    "    height_shift_range=0.1,\n",
    "    zoom_range=.1,\n",
    "    fill_mode='nearest',\n",
    "    shear_range=0.1,\n",
    "    rescale=1/255,\n",
    "    brightness_range=[0.5, 1.5],\n",
    "    preprocessing_function= blur)\n",
    "validation_datagen = keras.preprocessing.image.ImageDataGenerator(rescale=1./255)\n",
    "\n",
    "# Flow training images in batches of 20 using train_datagen generator\n",
    "train_generator = train_datagen.flow_from_directory(\n",
    "                TRAIN_DIR,\n",
    "                target_size=(image_size[0], image_size[1]),\n",
    "                batch_size=batch_size,\n",
    "                class_mode='categorical',\n",
    "                shuffle=True)\n",
    "\n",
    "# Flow validation images in batches of 20 using test_datagen generator\n",
    "test_generator = validation_datagen.flow_from_directory(\n",
    "                TEST_DIR, # Source directory for the validation images\n",
    "                target_size=(image_size[0], image_size[1]),\n",
    "                batch_size=batch_size,\n",
    "                class_mode='categorical',\n",
    "                shuffle=True)"
   ]
  },
  {
   "cell_type": "code",
   "execution_count": null,
   "metadata": {
    "scrolled": false
   },
   "outputs": [],
   "source": [
    "nets = ['MobileNet','VGG16' 'MobileNet' 'DenseNet201', 'Inception','ResNet']\n",
    "num_epochs = 85\n",
    "STEP_SIZE_TRAIN=train_generator.n//train_generator.batch_size\n",
    "STEP_SIZE_VALID=test_generator.n//test_generator.batch_size\n",
    "\n",
    "histories = []\n",
    "for network in nets:\n",
    "    print('---------------------- TRAIN %s ----------------------'%network)\n",
    "    reduce_lr =  ReduceLROnPlateau(monitor = \"val_loss\", factor = 0.5, patience = 10,verbose = 0, mode = \"auto\", epsilon = 1e-04, cooldown = 0,min_lr = 1e-5)\n",
    "    es = EarlyStopping(monitor = \"val_loss\" , verbose = 1 , mode = 'min' , patience = 50 )\n",
    "    mc = ModelCheckpoint('checkpoints/%s/best_model_loss.h5'%network, monitor = 'loss' , mode = 'min', verbose = 1 , save_best_only = True)\n",
    "    mc_val = ModelCheckpoint('checkpoints/%s/best_model_val_loss.h5'%network, monitor = 'val_loss' , mode = 'min', verbose = 1 , save_best_only = True)\n",
    "    model = get_model(network)\n",
    "    model.load_weights('checkpoints/%s/best_model_val_loss.h5'%network)\n",
    "    history = model.fit_generator(generator=train_generator,\n",
    "                    steps_per_epoch=STEP_SIZE_TRAIN,\n",
    "                    validation_data=test_generator,\n",
    "                    validation_steps=STEP_SIZE_VALID,\n",
    "                    callbacks=[reduce_lr,es,mc,mc_val],\n",
    "                    epochs=num_epochs)\n",
    "    histories.append(history)"
   ]
  }
 ],
 "metadata": {
  "kernelspec": {
   "display_name": "Python 3",
   "language": "python",
   "name": "python3"
  },
  "language_info": {
   "codemirror_mode": {
    "name": "ipython",
    "version": 3
   },
   "file_extension": ".py",
   "mimetype": "text/x-python",
   "name": "python",
   "nbconvert_exporter": "python",
   "pygments_lexer": "ipython3",
   "version": "3.7.4"
  }
 },
 "nbformat": 4,
 "nbformat_minor": 4
}
